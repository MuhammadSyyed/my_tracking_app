{
 "cells": [
  {
   "cell_type": "code",
   "execution_count": 6,
   "metadata": {},
   "outputs": [
    {
     "name": "stdout",
     "output_type": "stream",
     "text": [
      "Tracking Records:\n",
      "      latitude  longitude\n",
      "3    24.850678  67.004602\n",
      "4    24.850680  67.004602\n",
      "5    24.850685  67.004605\n",
      "6    24.850700  67.004612\n",
      "7    24.850717  67.004622\n",
      "..         ...        ...\n",
      "415  24.850935  67.004270\n",
      "416  24.850935  67.004282\n",
      "417  24.850937  67.004293\n",
      "418  24.850938  67.004300\n",
      "419  24.850933  67.004303\n",
      "\n",
      "[417 rows x 2 columns]\n"
     ]
    }
   ],
   "source": [
    "import pandas as pd\n",
    "\n",
    "def fetch_tracking_records(df, start_location, end_location):\n",
    "    start_location_df = df[df['desc'] == start_location]\n",
    "    end_location_df = df[df['desc'] == end_location]\n",
    "    if start_location_df.empty or end_location_df.empty:\n",
    "        print(f\"One or both of the specified locations not found.\")\n",
    "        return pd.DataFrame()\n",
    "    start_index = start_location_df.index[0]\n",
    "    end_index = end_location_df.index[0]\n",
    "    tracking_records = df.loc[start_index:end_index, ['latitude', 'longitude']]\n",
    "    return tracking_records\n",
    "\n",
    "your_dataframe = pd.read_excel('check.xlsx')\n",
    "start_location = 'Parking'\n",
    "end_location = 'Indoor sports hall'\n",
    "tracking_records = fetch_tracking_records(your_dataframe, start_location, end_location)\n"
   ]
  },
  {
   "cell_type": "code",
   "execution_count": null,
   "metadata": {},
   "outputs": [],
   "source": []
  }
 ],
 "metadata": {
  "kernelspec": {
   "display_name": "Python 3",
   "language": "python",
   "name": "python3"
  },
  "language_info": {
   "codemirror_mode": {
    "name": "ipython",
    "version": 3
   },
   "file_extension": ".py",
   "mimetype": "text/x-python",
   "name": "python",
   "nbconvert_exporter": "python",
   "pygments_lexer": "ipython3",
   "version": "3.8.0"
  }
 },
 "nbformat": 4,
 "nbformat_minor": 2
}
